{
  "cells": [
    {
      "cell_type": "code",
      "execution_count": 1,
      "metadata": {
        "id": "B9FHDUTIvLus"
      },
      "outputs": [],
      "source": [
        "import numpy as np\n",
        "import pandas as pd\n",
        "import matplotlib.pyplot as plt"
      ]
    },
    {
      "cell_type": "code",
      "execution_count": 2,
      "metadata": {
        "id": "mnpn4mLXvh94"
      },
      "outputs": [
        {
          "data": {
            "text/html": [
              "<div>\n",
              "<style scoped>\n",
              "    .dataframe tbody tr th:only-of-type {\n",
              "        vertical-align: middle;\n",
              "    }\n",
              "\n",
              "    .dataframe tbody tr th {\n",
              "        vertical-align: top;\n",
              "    }\n",
              "\n",
              "    .dataframe thead th {\n",
              "        text-align: right;\n",
              "    }\n",
              "</style>\n",
              "<table border=\"1\" class=\"dataframe\">\n",
              "  <thead>\n",
              "    <tr style=\"text-align: right;\">\n",
              "      <th></th>\n",
              "      <th>show_id</th>\n",
              "      <th>type</th>\n",
              "      <th>title</th>\n",
              "      <th>director</th>\n",
              "      <th>cast</th>\n",
              "      <th>country</th>\n",
              "      <th>date_added</th>\n",
              "      <th>release_year</th>\n",
              "      <th>rating</th>\n",
              "      <th>duration</th>\n",
              "      <th>listed_in</th>\n",
              "      <th>description</th>\n",
              "    </tr>\n",
              "  </thead>\n",
              "  <tbody>\n",
              "    <tr>\n",
              "      <th>0</th>\n",
              "      <td>s1</td>\n",
              "      <td>Movie</td>\n",
              "      <td>Dick Johnson Is Dead</td>\n",
              "      <td>Kirsten Johnson</td>\n",
              "      <td>NaN</td>\n",
              "      <td>United States</td>\n",
              "      <td>September 25, 2021</td>\n",
              "      <td>2020</td>\n",
              "      <td>PG-13</td>\n",
              "      <td>90 min</td>\n",
              "      <td>Documentaries</td>\n",
              "      <td>As her father nears the end of his life, filmm...</td>\n",
              "    </tr>\n",
              "    <tr>\n",
              "      <th>1</th>\n",
              "      <td>s2</td>\n",
              "      <td>TV Show</td>\n",
              "      <td>Blood &amp; Water</td>\n",
              "      <td>NaN</td>\n",
              "      <td>Ama Qamata, Khosi Ngema, Gail Mabalane, Thaban...</td>\n",
              "      <td>South Africa</td>\n",
              "      <td>September 24, 2021</td>\n",
              "      <td>2021</td>\n",
              "      <td>TV-MA</td>\n",
              "      <td>2 Seasons</td>\n",
              "      <td>International TV Shows, TV Dramas, TV Mysteries</td>\n",
              "      <td>After crossing paths at a party, a Cape Town t...</td>\n",
              "    </tr>\n",
              "    <tr>\n",
              "      <th>2</th>\n",
              "      <td>s3</td>\n",
              "      <td>TV Show</td>\n",
              "      <td>Ganglands</td>\n",
              "      <td>Julien Leclercq</td>\n",
              "      <td>Sami Bouajila, Tracy Gotoas, Samuel Jouy, Nabi...</td>\n",
              "      <td>NaN</td>\n",
              "      <td>September 24, 2021</td>\n",
              "      <td>2021</td>\n",
              "      <td>TV-MA</td>\n",
              "      <td>1 Season</td>\n",
              "      <td>Crime TV Shows, International TV Shows, TV Act...</td>\n",
              "      <td>To protect his family from a powerful drug lor...</td>\n",
              "    </tr>\n",
              "    <tr>\n",
              "      <th>3</th>\n",
              "      <td>s4</td>\n",
              "      <td>TV Show</td>\n",
              "      <td>Jailbirds New Orleans</td>\n",
              "      <td>NaN</td>\n",
              "      <td>NaN</td>\n",
              "      <td>NaN</td>\n",
              "      <td>September 24, 2021</td>\n",
              "      <td>2021</td>\n",
              "      <td>TV-MA</td>\n",
              "      <td>1 Season</td>\n",
              "      <td>Docuseries, Reality TV</td>\n",
              "      <td>Feuds, flirtations and toilet talk go down amo...</td>\n",
              "    </tr>\n",
              "    <tr>\n",
              "      <th>4</th>\n",
              "      <td>s5</td>\n",
              "      <td>TV Show</td>\n",
              "      <td>Kota Factory</td>\n",
              "      <td>NaN</td>\n",
              "      <td>Mayur More, Jitendra Kumar, Ranjan Raj, Alam K...</td>\n",
              "      <td>India</td>\n",
              "      <td>September 24, 2021</td>\n",
              "      <td>2021</td>\n",
              "      <td>TV-MA</td>\n",
              "      <td>2 Seasons</td>\n",
              "      <td>International TV Shows, Romantic TV Shows, TV ...</td>\n",
              "      <td>In a city of coaching centers known to train I...</td>\n",
              "    </tr>\n",
              "  </tbody>\n",
              "</table>\n",
              "</div>"
            ],
            "text/plain": [
              "  show_id     type                  title         director  \\\n",
              "0      s1    Movie   Dick Johnson Is Dead  Kirsten Johnson   \n",
              "1      s2  TV Show          Blood & Water              NaN   \n",
              "2      s3  TV Show              Ganglands  Julien Leclercq   \n",
              "3      s4  TV Show  Jailbirds New Orleans              NaN   \n",
              "4      s5  TV Show           Kota Factory              NaN   \n",
              "\n",
              "                                                cast        country  \\\n",
              "0                                                NaN  United States   \n",
              "1  Ama Qamata, Khosi Ngema, Gail Mabalane, Thaban...   South Africa   \n",
              "2  Sami Bouajila, Tracy Gotoas, Samuel Jouy, Nabi...            NaN   \n",
              "3                                                NaN            NaN   \n",
              "4  Mayur More, Jitendra Kumar, Ranjan Raj, Alam K...          India   \n",
              "\n",
              "           date_added  release_year rating   duration  \\\n",
              "0  September 25, 2021          2020  PG-13     90 min   \n",
              "1  September 24, 2021          2021  TV-MA  2 Seasons   \n",
              "2  September 24, 2021          2021  TV-MA   1 Season   \n",
              "3  September 24, 2021          2021  TV-MA   1 Season   \n",
              "4  September 24, 2021          2021  TV-MA  2 Seasons   \n",
              "\n",
              "                                           listed_in  \\\n",
              "0                                      Documentaries   \n",
              "1    International TV Shows, TV Dramas, TV Mysteries   \n",
              "2  Crime TV Shows, International TV Shows, TV Act...   \n",
              "3                             Docuseries, Reality TV   \n",
              "4  International TV Shows, Romantic TV Shows, TV ...   \n",
              "\n",
              "                                         description  \n",
              "0  As her father nears the end of his life, filmm...  \n",
              "1  After crossing paths at a party, a Cape Town t...  \n",
              "2  To protect his family from a powerful drug lor...  \n",
              "3  Feuds, flirtations and toilet talk go down amo...  \n",
              "4  In a city of coaching centers known to train I...  "
            ]
          },
          "execution_count": 2,
          "metadata": {},
          "output_type": "execute_result"
        }
      ],
      "source": [
        "df = pd.read_csv('netflix_titles.csv')\n",
        "df.head()"
      ]
    },
    {
      "cell_type": "code",
      "execution_count": 3,
      "metadata": {
        "id": "_xZReEG2wnK7"
      },
      "outputs": [
        {
          "data": {
            "text/plain": [
              "(8807, 12)"
            ]
          },
          "execution_count": 3,
          "metadata": {},
          "output_type": "execute_result"
        }
      ],
      "source": [
        "df.shape"
      ]
    },
    {
      "cell_type": "markdown",
      "metadata": {},
      "source": [
        "SPLIT DATA FIRSTLY"
      ]
    },
    {
      "cell_type": "code",
      "execution_count": 4,
      "metadata": {
        "id": "1locDNpdvuKp"
      },
      "outputs": [
        {
          "name": "stdout",
          "output_type": "stream",
          "text": [
            "<class 'pandas.core.frame.DataFrame'>\n",
            "RangeIndex: 8807 entries, 0 to 8806\n",
            "Data columns (total 12 columns):\n",
            " #   Column        Non-Null Count  Dtype \n",
            "---  ------        --------------  ----- \n",
            " 0   show_id       8807 non-null   object\n",
            " 1   type          8807 non-null   object\n",
            " 2   title         8807 non-null   object\n",
            " 3   director      6173 non-null   object\n",
            " 4   cast          7982 non-null   object\n",
            " 5   country       7976 non-null   object\n",
            " 6   date_added    8797 non-null   object\n",
            " 7   release_year  8807 non-null   int64 \n",
            " 8   rating        8803 non-null   object\n",
            " 9   duration      8804 non-null   object\n",
            " 10  listed_in     8807 non-null   object\n",
            " 11  description   8807 non-null   object\n",
            "dtypes: int64(1), object(11)\n",
            "memory usage: 825.8+ KB\n"
          ]
        }
      ],
      "source": [
        "df.info()"
      ]
    },
    {
      "cell_type": "markdown",
      "metadata": {
        "id": "qIg2oNiowDF5"
      },
      "source": [
        "terdapat missing value di director, cast, country, date_added, rating dan duration"
      ]
    },
    {
      "cell_type": "code",
      "execution_count": 5,
      "metadata": {},
      "outputs": [
        {
          "data": {
            "text/plain": [
              "np.int64(0)"
            ]
          },
          "execution_count": 5,
          "metadata": {},
          "output_type": "execute_result"
        }
      ],
      "source": [
        "df.duplicated().sum()"
      ]
    },
    {
      "cell_type": "code",
      "execution_count": 6,
      "metadata": {},
      "outputs": [
        {
          "data": {
            "text/plain": [
              "show_id            0\n",
              "type               0\n",
              "title              0\n",
              "director        2634\n",
              "cast             825\n",
              "country          831\n",
              "date_added        10\n",
              "release_year       0\n",
              "rating             4\n",
              "duration           3\n",
              "listed_in          0\n",
              "description        0\n",
              "dtype: int64"
            ]
          },
          "execution_count": 6,
          "metadata": {},
          "output_type": "execute_result"
        }
      ],
      "source": [
        "df.isnull().sum()"
      ]
    },
    {
      "cell_type": "markdown",
      "metadata": {},
      "source": [
        "Null tidak apa, namun kita isi dengan Blank Space"
      ]
    },
    {
      "cell_type": "code",
      "execution_count": 7,
      "metadata": {},
      "outputs": [],
      "source": [
        "df.fillna('', inplace=True)  # replace all NaNs with blank strings"
      ]
    },
    {
      "cell_type": "code",
      "execution_count": 8,
      "metadata": {},
      "outputs": [],
      "source": [
        "df['combined_features'] = (\n",
        "    (df['title'] + ' ') * 3 +\n",
        "    (df['director'] + ' ') +\n",
        "    (df['cast'] + ' ') +\n",
        "    (df['listed_in'] + ' ') * 2 +\n",
        "    (df['description'] + ' ') +\n",
        "    (df['country'] + ' ') +\n",
        "    (df['rating'] + ' ')\n",
        ")\n",
        "\n",
        "df['combined_features'] = df['combined_features'].str.lower().str.replace(r'[^\\w\\s]', '', regex=True)"
      ]
    },
    {
      "cell_type": "code",
      "execution_count": 9,
      "metadata": {},
      "outputs": [
        {
          "data": {
            "text/html": [
              "<div>\n",
              "<style scoped>\n",
              "    .dataframe tbody tr th:only-of-type {\n",
              "        vertical-align: middle;\n",
              "    }\n",
              "\n",
              "    .dataframe tbody tr th {\n",
              "        vertical-align: top;\n",
              "    }\n",
              "\n",
              "    .dataframe thead th {\n",
              "        text-align: right;\n",
              "    }\n",
              "</style>\n",
              "<table border=\"1\" class=\"dataframe\">\n",
              "  <thead>\n",
              "    <tr style=\"text-align: right;\">\n",
              "      <th></th>\n",
              "      <th>show_id</th>\n",
              "      <th>type</th>\n",
              "      <th>title</th>\n",
              "      <th>director</th>\n",
              "      <th>cast</th>\n",
              "      <th>country</th>\n",
              "      <th>date_added</th>\n",
              "      <th>release_year</th>\n",
              "      <th>rating</th>\n",
              "      <th>duration</th>\n",
              "      <th>listed_in</th>\n",
              "      <th>description</th>\n",
              "      <th>combined_features</th>\n",
              "    </tr>\n",
              "  </thead>\n",
              "  <tbody>\n",
              "    <tr>\n",
              "      <th>0</th>\n",
              "      <td>s1</td>\n",
              "      <td>Movie</td>\n",
              "      <td>Dick Johnson Is Dead</td>\n",
              "      <td>Kirsten Johnson</td>\n",
              "      <td></td>\n",
              "      <td>United States</td>\n",
              "      <td>September 25, 2021</td>\n",
              "      <td>2020</td>\n",
              "      <td>PG-13</td>\n",
              "      <td>90 min</td>\n",
              "      <td>Documentaries</td>\n",
              "      <td>As her father nears the end of his life, filmm...</td>\n",
              "      <td>dick johnson is dead dick johnson is dead dick...</td>\n",
              "    </tr>\n",
              "    <tr>\n",
              "      <th>1</th>\n",
              "      <td>s2</td>\n",
              "      <td>TV Show</td>\n",
              "      <td>Blood &amp; Water</td>\n",
              "      <td></td>\n",
              "      <td>Ama Qamata, Khosi Ngema, Gail Mabalane, Thaban...</td>\n",
              "      <td>South Africa</td>\n",
              "      <td>September 24, 2021</td>\n",
              "      <td>2021</td>\n",
              "      <td>TV-MA</td>\n",
              "      <td>2 Seasons</td>\n",
              "      <td>International TV Shows, TV Dramas, TV Mysteries</td>\n",
              "      <td>After crossing paths at a party, a Cape Town t...</td>\n",
              "      <td>blood  water blood  water blood  water  ama qa...</td>\n",
              "    </tr>\n",
              "    <tr>\n",
              "      <th>2</th>\n",
              "      <td>s3</td>\n",
              "      <td>TV Show</td>\n",
              "      <td>Ganglands</td>\n",
              "      <td>Julien Leclercq</td>\n",
              "      <td>Sami Bouajila, Tracy Gotoas, Samuel Jouy, Nabi...</td>\n",
              "      <td></td>\n",
              "      <td>September 24, 2021</td>\n",
              "      <td>2021</td>\n",
              "      <td>TV-MA</td>\n",
              "      <td>1 Season</td>\n",
              "      <td>Crime TV Shows, International TV Shows, TV Act...</td>\n",
              "      <td>To protect his family from a powerful drug lor...</td>\n",
              "      <td>ganglands ganglands ganglands julien leclercq ...</td>\n",
              "    </tr>\n",
              "    <tr>\n",
              "      <th>3</th>\n",
              "      <td>s4</td>\n",
              "      <td>TV Show</td>\n",
              "      <td>Jailbirds New Orleans</td>\n",
              "      <td></td>\n",
              "      <td></td>\n",
              "      <td></td>\n",
              "      <td>September 24, 2021</td>\n",
              "      <td>2021</td>\n",
              "      <td>TV-MA</td>\n",
              "      <td>1 Season</td>\n",
              "      <td>Docuseries, Reality TV</td>\n",
              "      <td>Feuds, flirtations and toilet talk go down amo...</td>\n",
              "      <td>jailbirds new orleans jailbirds new orleans ja...</td>\n",
              "    </tr>\n",
              "    <tr>\n",
              "      <th>4</th>\n",
              "      <td>s5</td>\n",
              "      <td>TV Show</td>\n",
              "      <td>Kota Factory</td>\n",
              "      <td></td>\n",
              "      <td>Mayur More, Jitendra Kumar, Ranjan Raj, Alam K...</td>\n",
              "      <td>India</td>\n",
              "      <td>September 24, 2021</td>\n",
              "      <td>2021</td>\n",
              "      <td>TV-MA</td>\n",
              "      <td>2 Seasons</td>\n",
              "      <td>International TV Shows, Romantic TV Shows, TV ...</td>\n",
              "      <td>In a city of coaching centers known to train I...</td>\n",
              "      <td>kota factory kota factory kota factory  mayur ...</td>\n",
              "    </tr>\n",
              "  </tbody>\n",
              "</table>\n",
              "</div>"
            ],
            "text/plain": [
              "  show_id     type                  title         director  \\\n",
              "0      s1    Movie   Dick Johnson Is Dead  Kirsten Johnson   \n",
              "1      s2  TV Show          Blood & Water                    \n",
              "2      s3  TV Show              Ganglands  Julien Leclercq   \n",
              "3      s4  TV Show  Jailbirds New Orleans                    \n",
              "4      s5  TV Show           Kota Factory                    \n",
              "\n",
              "                                                cast        country  \\\n",
              "0                                                     United States   \n",
              "1  Ama Qamata, Khosi Ngema, Gail Mabalane, Thaban...   South Africa   \n",
              "2  Sami Bouajila, Tracy Gotoas, Samuel Jouy, Nabi...                  \n",
              "3                                                                     \n",
              "4  Mayur More, Jitendra Kumar, Ranjan Raj, Alam K...          India   \n",
              "\n",
              "           date_added  release_year rating   duration  \\\n",
              "0  September 25, 2021          2020  PG-13     90 min   \n",
              "1  September 24, 2021          2021  TV-MA  2 Seasons   \n",
              "2  September 24, 2021          2021  TV-MA   1 Season   \n",
              "3  September 24, 2021          2021  TV-MA   1 Season   \n",
              "4  September 24, 2021          2021  TV-MA  2 Seasons   \n",
              "\n",
              "                                           listed_in  \\\n",
              "0                                      Documentaries   \n",
              "1    International TV Shows, TV Dramas, TV Mysteries   \n",
              "2  Crime TV Shows, International TV Shows, TV Act...   \n",
              "3                             Docuseries, Reality TV   \n",
              "4  International TV Shows, Romantic TV Shows, TV ...   \n",
              "\n",
              "                                         description  \\\n",
              "0  As her father nears the end of his life, filmm...   \n",
              "1  After crossing paths at a party, a Cape Town t...   \n",
              "2  To protect his family from a powerful drug lor...   \n",
              "3  Feuds, flirtations and toilet talk go down amo...   \n",
              "4  In a city of coaching centers known to train I...   \n",
              "\n",
              "                                   combined_features  \n",
              "0  dick johnson is dead dick johnson is dead dick...  \n",
              "1  blood  water blood  water blood  water  ama qa...  \n",
              "2  ganglands ganglands ganglands julien leclercq ...  \n",
              "3  jailbirds new orleans jailbirds new orleans ja...  \n",
              "4  kota factory kota factory kota factory  mayur ...  "
            ]
          },
          "execution_count": 9,
          "metadata": {},
          "output_type": "execute_result"
        }
      ],
      "source": [
        "df.head()"
      ]
    },
    {
      "cell_type": "markdown",
      "metadata": {},
      "source": [
        "This way:\n",
        "\n",
        "A missing director or cast just contributes nothing, instead of causing errors.\n",
        "\n",
        "TF-IDF will treat it as a missing token — which is exactly what you want."
      ]
    },
    {
      "cell_type": "code",
      "execution_count": 10,
      "metadata": {
        "id": "Bun8uhXEv4VU"
      },
      "outputs": [
        {
          "name": "stdout",
          "output_type": "stream",
          "text": [
            "show_id\n",
            "s8807    1\n",
            "s1       1\n",
            "s2       1\n",
            "s3       1\n",
            "s4       1\n",
            "        ..\n",
            "s12      1\n",
            "s11      1\n",
            "s10      1\n",
            "s9       1\n",
            "s8       1\n",
            "Name: count, Length: 8807, dtype: int64\n",
            "\n",
            "type\n",
            "Movie      6131\n",
            "TV Show    2676\n",
            "Name: count, dtype: int64\n",
            "\n",
            "title\n",
            "Zubaan                                 1\n",
            "Dick Johnson Is Dead                   1\n",
            "Blood & Water                          1\n",
            "Ganglands                              1\n",
            "Jailbirds New Orleans                  1\n",
            "                                      ..\n",
            "Bangkok Breaking                       1\n",
            "Vendetta: Truth, Lies and The Mafia    1\n",
            "The Starling                           1\n",
            "The Great British Baking Show          1\n",
            "Sankofa                                1\n",
            "Name: count, Length: 8807, dtype: int64\n",
            "\n",
            "director\n",
            "                                          2634\n",
            "Rajiv Chilaka                               19\n",
            "Raúl Campos, Jan Suter                      18\n",
            "Suhas Kadav                                 16\n",
            "Marcus Raboy                                16\n",
            "                                          ... \n",
            "Milla Harrison-Hansley, Alicky Sussman       1\n",
            "Drew Stone                                   1\n",
            "Benjamin Turner                              1\n",
            "S. Shankar                                   1\n",
            "Peter Hewitt                                 1\n",
            "Name: count, Length: 4529, dtype: int64\n",
            "\n",
            "cast\n",
            "                                                                                                                                                               825\n",
            "David Attenborough                                                                                                                                              19\n",
            "Vatsal Dubey, Julie Tejwani, Rupa Bhimani, Jigna Bhardwaj, Rajesh Kava, Mousam, Swapnil                                                                         14\n",
            "Samuel West                                                                                                                                                     10\n",
            "Jeff Dunham                                                                                                                                                      7\n",
            "                                                                                                                                                              ... \n",
            "Ali Suliman, Saleh Bakri, Yasa, Ali Al-Jabri, Mansoor Alfeeli, Ahd                                                                                               1\n",
            "Mark Ruffalo, Jake Gyllenhaal, Robert Downey Jr., Anthony Edwards, Brian Cox, Elias Koteas, Donal Logue, John Carroll Lynch, Dermot Mulroney, Chloë Sevigny      1\n",
            "Jesse Eisenberg, Woody Harrelson, Emma Stone, Abigail Breslin, Amber Heard, Bill Murray, Derek Graf                                                              1\n",
            "Tim Allen, Courteney Cox, Chevy Chase, Kate Mara, Ryan Newman, Michael Cassidy, Spencer Breslin, Rip Torn, Kevin Zegers                                          1\n",
            "Ankush Choudhary, Smita Shewale, Mohan Joshi, Atmaram Bhende, Asha Bhende                                                                                        1\n",
            "Name: count, Length: 7693, dtype: int64\n",
            "\n",
            "country\n",
            "United States                                             2818\n",
            "India                                                      972\n",
            "                                                           831\n",
            "United Kingdom                                             419\n",
            "Japan                                                      245\n",
            "                                                          ... \n",
            "Germany, Canada, United States                               1\n",
            "Denmark, United Kingdom, South Africa, Sweden, Belgium       1\n",
            "Serbia, South Korea, Slovenia                                1\n",
            "United Kingdom, Spain, Belgium                               1\n",
            "South Africa, United States, Japan                           1\n",
            "Name: count, Length: 749, dtype: int64\n",
            "\n",
            "date_added\n",
            "January 1, 2020      109\n",
            "November 1, 2019      89\n",
            "March 1, 2018         75\n",
            "December 31, 2019     74\n",
            "October 1, 2018       71\n",
            "                    ... \n",
            " June 1, 2018          1\n",
            "October 21, 2018       1\n",
            "February 8, 2016       1\n",
            "June 5, 2018           1\n",
            "October 14, 2017       1\n",
            "Name: count, Length: 1768, dtype: int64\n",
            "\n",
            "release_year\n",
            "2018    1147\n",
            "2017    1032\n",
            "2019    1030\n",
            "2020     953\n",
            "2016     902\n",
            "        ... \n",
            "1961       1\n",
            "1925       1\n",
            "1959       1\n",
            "1966       1\n",
            "1947       1\n",
            "Name: count, Length: 74, dtype: int64\n",
            "\n",
            "rating\n",
            "TV-MA       3207\n",
            "TV-14       2160\n",
            "TV-PG        863\n",
            "R            799\n",
            "PG-13        490\n",
            "TV-Y7        334\n",
            "TV-Y         307\n",
            "PG           287\n",
            "TV-G         220\n",
            "NR            80\n",
            "G             41\n",
            "TV-Y7-FV       6\n",
            "               4\n",
            "NC-17          3\n",
            "UR             3\n",
            "66 min         1\n",
            "74 min         1\n",
            "84 min         1\n",
            "Name: count, dtype: int64\n",
            "\n",
            "duration\n",
            "1 Season     1793\n",
            "2 Seasons     425\n",
            "3 Seasons     199\n",
            "90 min        152\n",
            "94 min        146\n",
            "             ... \n",
            "228 min         1\n",
            "18 min          1\n",
            "205 min         1\n",
            "201 min         1\n",
            "191 min         1\n",
            "Name: count, Length: 221, dtype: int64\n",
            "\n",
            "listed_in\n",
            "Dramas, International Movies                        362\n",
            "Documentaries                                       359\n",
            "Stand-Up Comedy                                     334\n",
            "Comedies, Dramas, International Movies              274\n",
            "Dramas, Independent Movies, International Movies    252\n",
            "                                                   ... \n",
            "Action & Adventure, Cult Movies                       1\n",
            "Action & Adventure, Comedies, Music & Musicals        1\n",
            "Classic Movies, Horror Movies, Thrillers              1\n",
            "Children & Family Movies, Classic Movies, Dramas      1\n",
            "Cult Movies, Dramas, Thrillers                        1\n",
            "Name: count, Length: 514, dtype: int64\n",
            "\n",
            "description\n",
            "Paranormal activity at a lush, abandoned property alarms a group eager to redevelop the site, but the eerie events may not be as unearthly as they think.    4\n",
            "A surly septuagenarian gets another chance at her 20s after having her photo snapped at a studio that magically takes 50 years off her life.                 3\n",
            "Multiple women report their husbands as missing but when it appears they are looking for the same man, a police officer traces their cryptic connection.     3\n",
            "Challenged to compose 100 songs before he can marry the girl he loves, a tortured but passionate singer-songwriter embarks on a poignant musical journey.    3\n",
            "As a woman scours Hyderabad for her missing husband, she becomes entangled in a conspiracy that suggests there’s more to the mystery than meets the eye.     2\n",
            "                                                                                                                                                            ..\n",
            "A gifted young ballet dancer struggles to find her footing in an uptight ballet school that brings her and her family to a brand-new neighborhood.           1\n",
            "After stepping in to revitalize his family's hotel, a money-minded businessman clashes with the hotel's cheery, Christmas-loving decorator.                  1\n",
            "A soap opera producer, director and makeup artist each face wrenching family turmoil, from teen rebellion and marital infidelity to Alzheimer's.             1\n",
            "Laida and Miggy think they've found perfect happiness with each other, until their burgeoning careers force them into a long-distance relationship.          1\n",
            "A scrappy but poor boy worms his way into a tycoon's dysfunctional family, while facing his fear of music and the truth about his past.                      1\n",
            "Name: count, Length: 8775, dtype: int64\n",
            "\n",
            "combined_features\n",
            "zubaan zubaan zubaan mozez singh vicky kaushal sarahjane dias raaghav chanana manish chaudhary meghna malik malkeet rauni anita shabdish chittaranjan tripathy dramas international movies music  musicals dramas international movies music  musicals a scrappy but poor boy worms his way into a tycoons dysfunctional family while facing his fear of music and the truth about his past india tv14                                                                                                                                                                                                                                                                                                                                                                                                                                                              1\n",
            "dick johnson is dead dick johnson is dead dick johnson is dead kirsten johnson  documentaries documentaries as her father nears the end of his life filmmaker kirsten johnson stages his death in inventive and comical ways to help them both face the inevitable united states pg13                                                                                                                                                                                                                                                                                                                                                                                                                                                                                                                                                                               1\n",
            "blood  water blood  water blood  water  ama qamata khosi ngema gail mabalane thabang molaba dillon windvogel natasha thahane arno greeff xolile tshabalala getmore sithole cindy mahlangu ryle de morny greteli fincham sello maake kancube odwa gwanya mekaila mathys sandi schultz duane williams shamilla miller patrick mofokeng international tv shows tv dramas tv mysteries international tv shows tv dramas tv mysteries after crossing paths at a party a cape town teen sets out to prove whether a privateschool swimming star is her sister who was abducted at birth south africa tvma                                                                                                                                                                                                                                                                 1\n",
            "ganglands ganglands ganglands julien leclercq sami bouajila tracy gotoas samuel jouy nabiha akkari sofia lesaffre salim kechiouche noureddine farihi geert van rampelberg bakary diombera crime tv shows international tv shows tv action  adventure crime tv shows international tv shows tv action  adventure to protect his family from a powerful drug lord skilled thief mehdi and his expert team of robbers are pulled into a violent and deadly turf war  tvma                                                                                                                                                                                                                                                                                                                                                                                              1\n",
            "jailbirds new orleans jailbirds new orleans jailbirds new orleans   docuseries reality tv docuseries reality tv feuds flirtations and toilet talk go down among the incarcerated women at the orleans justice center in new orleans on this gritty reality series  tvma                                                                                                                                                                                                                                                                                                                                                                                                                                                                                                                                                                                             1\n",
            "                                                                                                                                                                                                                                                                                                                                                                                                                                                                                                                                                                                                                                                                                                                                                                                                                                                                   ..\n",
            "bangkok breaking bangkok breaking bangkok breaking kongkiat komesiri sukollawat kanarot sushar manaying pavarit mongkolpisit sahajak boonthanakit suthipongse thatphithakkul bhasaworn bawronkirati daweerit chullasapya waratthaya wongchayaporn kittiphoom wongpentak abhicha thanachanun nophand boonyai kittipong khamsat arisara wongchalee jaytiya naiwattanakul pantipa arunwattanachai panupan jantanawong kungtap saelim phumphat chartsuriyakiat issara veranitinunt keerati sivakuae panjai sirisuwan supranee charoenpol suda chuenban visaka banhansupavat pitchatorn santinatornkul crime tv shows international tv shows tv action  adventure crime tv shows international tv shows tv action  adventure struggling to earn a living in bangkok a man joins an emergency rescue service and realizes he must unravel a citywide conspiracy  tvma     1\n",
            "vendetta truth lies and the mafia vendetta truth lies and the mafia vendetta truth lies and the mafia   crime tv shows docuseries international tv shows crime tv shows docuseries international tv shows sicily boasts a bold antimafia coalition but what happens when those trying to bring down organized crime are accused of being criminals themselves  tvma                                                                                                                                                                                                                                                                                                                                                                                                                                                                                                 1\n",
            "the starling the starling the starling theodore melfi melissa mccarthy chris odowd kevin kline timothy olyphant daveed diggs skyler gisondo laura harrier rosalind chao kimberly quinn loretta devine ravi kapoor comedies dramas comedies dramas a woman adjusting to life after a loss contends with a feisty bird thats taken over her garden  and a husband whos struggling to find a way forward united states pg13                                                                                                                                                                                                                                                                                                                                                                                                                                            1\n",
            "the great british baking show the great british baking show the great british baking show andy devonshire mel giedroyc sue perkins mary berry paul hollywood british tv shows reality tv british tv shows reality tv a talented batch of amateur bakers face off in a 10week competition whipping up their best dishes in the hopes of being named the uks best united kingdom tv14                                                                                                                                                                                                                                                                                                                                                                                                                                                                                 1\n",
            "sankofa sankofa sankofa haile gerima kofi ghanaba oyafunmike ogunlano alexandra duah nick medley mutabaruka afemo omilami reggie carter mzuri dramas independent movies international movies dramas independent movies international movies on a photo shoot in ghana an american model slips back in time becomes enslaved on a plantation and bears witness to the agony of her ancestral past united states ghana burkina faso united kingdom germany ethiopia tvma                                                                                                                                                                                                                                                                                                                                                                                              1\n",
            "Name: count, Length: 8807, dtype: int64\n",
            "\n"
          ]
        }
      ],
      "source": [
        "for i in df.columns:\n",
        "   print(f\"{df[i].value_counts()}\\n\")"
      ]
    },
    {
      "cell_type": "markdown",
      "metadata": {},
      "source": [
        "terdapat beberapa outlier seperti adanya:\n",
        "- '74 min', '84 min', '66 min' pada column rating"
      ]
    },
    {
      "cell_type": "code",
      "execution_count": 11,
      "metadata": {},
      "outputs": [],
      "source": [
        "invalid_ratings = ['74 min', '84 min', '66 min']\n",
        "train_df = df.drop(df[df['rating'].isin(invalid_ratings)].index)"
      ]
    },
    {
      "cell_type": "code",
      "execution_count": 12,
      "metadata": {},
      "outputs": [],
      "source": [
        "# ubah date_added ke datetime format\n",
        "df['date_added'] = pd.to_datetime(df['date_added'], format='%B %d, %Y', errors='coerce')"
      ]
    },
    {
      "cell_type": "code",
      "execution_count": 13,
      "metadata": {},
      "outputs": [
        {
          "name": "stderr",
          "output_type": "stream",
          "text": [
            "<>:12: SyntaxWarning: invalid escape sequence '\\d'\n",
            "<>:12: SyntaxWarning: invalid escape sequence '\\d'\n",
            "C:\\Users\\rayha\\AppData\\Local\\Temp\\ipykernel_29452\\344211715.py:12: SyntaxWarning: invalid escape sequence '\\d'\n",
            "  df_movies['duration_min'] = df_movies['duration'].str.extract('(\\d+)').astype(int)\n"
          ]
        }
      ],
      "source": [
        "# Step 1: Separate shows\n",
        "df_shows = df[df['duration'].str.contains('season', case=False, na=False)].copy()\n",
        "\n",
        "# Step 2: Keep shows as-is (no outlier removal needed)\n",
        "df_shows_clean = df_shows.copy()\n",
        "\n",
        "# Movies have 'min' in the duration\n",
        "df_movies = df[df['duration'].str.contains('min', case=False, na=False)].copy()\n",
        "\n",
        "# Step 2: Convert durations to numeric values\n",
        "# For movies: extract number of minutes\n",
        "df_movies['duration_min'] = df_movies['duration'].str.extract('(\\d+)').astype(int)"
      ]
    },
    {
      "cell_type": "code",
      "execution_count": 14,
      "metadata": {},
      "outputs": [
        {
          "name": "stdout",
          "output_type": "stream",
          "text": [
            "Total movie outliers found: 450\n"
          ]
        }
      ],
      "source": [
        "# applying IQR method to find outliers in movies\n",
        "Q1 = df_movies['duration_min'].quantile(0.25)\n",
        "Q3 = df_movies['duration_min'].quantile(0.75)\n",
        "IQR = Q3 - Q1\n",
        "upper_bound_mov = Q3 + (1.5 * IQR)\n",
        "lower_bound_mov = Q1 - (1.5 * IQR)\n",
        "# Filter out outliers\n",
        "outliers_movies = df_movies[(df_movies['duration_min'] < lower_bound_mov) | (df_movies['duration_min'] > upper_bound_mov)]\n",
        "# See how many outliers were found\n",
        "print(\"Total movie outliers found:\", len(outliers_movies))"
      ]
    },
    {
      "cell_type": "code",
      "execution_count": 15,
      "metadata": {},
      "outputs": [
        {
          "data": {
            "image/png": "[encoded data removed]",
            "text/plain": [
              "<Figure size 1000x600 with 1 Axes>"
            ]
          },
          "metadata": {},
          "output_type": "display_data"
        }
      ],
      "source": [
        "import seaborn as sns\n",
        "# creating boxplot to visualize outliers in movies\n",
        "plt.figure(figsize=(10, 6))\n",
        "sns.boxplot(x='duration_min', data=df_movies)\n",
        "plt.title('Boxplot of Duration in Movies')\n",
        "plt.xlabel('Duration (in minutes)')\n",
        "plt.show()"
      ]
    },
    {
      "cell_type": "code",
      "execution_count": 16,
      "metadata": {},
      "outputs": [
        {
          "data": {
            "image/png": "[encoded data removed]",
            "text/plain": [
              "<Figure size 1000x600 with 1 Axes>"
            ]
          },
          "metadata": {},
          "output_type": "display_data"
        }
      ],
      "source": [
        "# remove outliers from the movies dataset\n",
        "df_movies_clean = df_movies[\n",
        "    (df_movies['duration_min'] > lower_bound_mov) & \n",
        "    (df_movies['duration_min'] < upper_bound_mov)\n",
        "]\n",
        "\n",
        "# creating boxplot after removing outliers in movies\n",
        "plt.figure(figsize=(10, 6))\n",
        "sns.boxplot(x='duration_min', data=df_movies_clean)\n",
        "plt.title('Boxplot of Duration in Movies (After Outlier Removal)')\n",
        "plt.xlabel('Duration (in minutes)')\n",
        "plt.show()"
      ]
    },
    {
      "cell_type": "code",
      "execution_count": 17,
      "metadata": {},
      "outputs": [],
      "source": [
        "# Merge cleaned movies and shows back into one DataFrame\n",
        "df_cleaned = pd.concat([df_movies_clean, df_shows_clean], ignore_index=True)\n",
        "\n",
        "# Replace the original df (optional, if you want to keep only cleaned data)\n",
        "df = df_cleaned.copy()"
      ]
    },
    {
      "cell_type": "code",
      "execution_count": 18,
      "metadata": {},
      "outputs": [
        {
          "data": {
            "text/plain": [
              "(8354, 14)"
            ]
          },
          "execution_count": 18,
          "metadata": {},
          "output_type": "execute_result"
        }
      ],
      "source": [
        "df.shape"
      ]
    },
    {
      "cell_type": "code",
      "execution_count": 19,
      "metadata": {},
      "outputs": [
        {
          "data": {
            "image/png": "[encoded data removed]",
            "text/plain": [
              "<Figure size 1000x300 with 2 Axes>"
            ]
          },
          "metadata": {},
          "output_type": "display_data"
        },
        {
          "name": "stdout",
          "output_type": "stream",
          "text": [
            "release_year - Skewness: -3.4767927039709687\n",
            "release_year - Kurtosis: 16.99011780506792\n"
          ]
        }
      ],
      "source": [
        "import matplotlib.pyplot as plt\n",
        "import seaborn as sns\n",
        "\n",
        "# Make sure 'release_year' is numeric or datetime - here we assume it's numeric (e.g., year)\n",
        "plt.figure(figsize=(10, 3))\n",
        "\n",
        "# Histogram\n",
        "plt.subplot(1, 2, 1)\n",
        "sns.histplot(df['release_year'], bins=30)\n",
        "plt.title('Histogram of release_year')\n",
        "\n",
        "# Boxplot\n",
        "plt.subplot(1, 2, 2)\n",
        "sns.boxplot(y=df['release_year'])\n",
        "plt.title('Boxplot of release_year')\n",
        "\n",
        "plt.tight_layout()\n",
        "plt.show()\n",
        "\n",
        "# Optional: Print skewness and kurtosis\n",
        "print(f'release_year - Skewness: {df[\"release_year\"].skew()}')\n",
        "print(f'release_year - Kurtosis: {df[\"release_year\"].kurt()}')"
      ]
    },
    {
      "cell_type": "markdown",
      "metadata": {},
      "source": [
        "Seperti Outliers, namun masih masuk akal karena memang banyak movies yang di produce pada Tahun 1940an - 2000."
      ]
    },
    {
      "cell_type": "code",
      "execution_count": 20,
      "metadata": {},
      "outputs": [
        {
          "data": {
            "image/png": "[encoded data removed]",
            "text/plain": [
              "<Figure size 800x600 with 1 Axes>"
            ]
          },
          "metadata": {},
          "output_type": "display_data"
        }
      ],
      "source": [
        "# Generating a pie chart to visualize the proportion of Movies and TV Shows in the dataset\n",
        "plt.figure(figsize=(8, 6))\n",
        "df['type'].value_counts().plot.pie(autopct='%1.1f%%', startangle=90, colors=[\"#0021c7\",\"#d50000\"])\n",
        "plt.title('Distribution of Movies and Shows')\n",
        "plt.ylabel('')\n",
        "plt.show()"
      ]
    },
    {
      "cell_type": "code",
      "execution_count": 21,
      "metadata": {},
      "outputs": [
        {
          "data": {
            "image/png": "[encoded data removed]",
            "text/plain": [
              "<Figure size 1000x600 with 1 Axes>"
            ]
          },
          "metadata": {},
          "output_type": "display_data"
        }
      ],
      "source": [
        "# Visualizing the distribution of movie durations using a histogram and KDE plot -->\n",
        "plt.figure(figsize=(10, 6))\n",
        "sns.histplot(df['duration_min'], bins=30, kde=True, color='blue')\n",
        "plt.title('Distribution of Movie Durations')\n",
        "plt.xlabel('Duration (in minutes)')\n",
        "plt.ylabel('Frequency')\n",
        "plt.show()"
      ]
    },
    {
      "cell_type": "code",
      "execution_count": 22,
      "metadata": {},
      "outputs": [
        {
          "name": "stderr",
          "output_type": "stream",
          "text": [
            "C:\\Users\\rayha\\AppData\\Local\\Temp\\ipykernel_29452\\4194009988.py:3: FutureWarning: \n",
            "\n",
            "Passing `palette` without assigning `hue` is deprecated and will be removed in v0.14.0. Assign the `x` variable to `hue` and set `legend=False` for the same effect.\n",
            "\n",
            "  sns.countplot(data=df, x='rating', order=df['rating'].value_counts().index, palette='viridis')\n"
          ]
        },
        {
          "data": {
            "image/png": "[encoded data removed]",
            "text/plain": [
              "<Figure size 1200x600 with 1 Axes>"
            ]
          },
          "metadata": {},
          "output_type": "display_data"
        }
      ],
      "source": [
        "# Plotting the bar chart for categorized ratings\n",
        "plt.figure(figsize=(12, 6))\n",
        "sns.countplot(data=df, x='rating', order=df['rating'].value_counts().index, palette='viridis')\n",
        "plt.title('Count of Movies and Shows by Categorized Ratings')\n",
        "plt.xlabel('Categorized Ratings')\n",
        "plt.ylabel('Count')\n",
        "plt.xticks(rotation=45)\n",
        "plt.show()"
      ]
    },
    {
      "cell_type": "markdown",
      "metadata": {
        "id": "gI9KgBbz0T3A"
      },
      "source": [
        "## Preprocessing and Modeling"
      ]
    },
    {
      "cell_type": "code",
      "execution_count": 23,
      "metadata": {
        "id": "L1AQ-Um90PqN"
      },
      "outputs": [],
      "source": [
        "from sklearn.feature_extraction.text import TfidfVectorizer\n",
        "\n",
        "# Initialize the vectorizer\n",
        "vectorizer = TfidfVectorizer(stop_words='english')\n",
        "\n",
        "# Apply to your combined features\n",
        "tfidf_matrix = vectorizer.fit_transform(df['combined_features'])"
      ]
    },
    {
      "cell_type": "code",
      "execution_count": 24,
      "metadata": {},
      "outputs": [],
      "source": [
        "from sklearn.metrics.pairwise import cosine_similarity\n",
        "\n",
        "# Compute cosine similarity matrix\n",
        "cosine_sim = cosine_similarity(tfidf_matrix, tfidf_matrix)"
      ]
    },
    {
      "cell_type": "code",
      "execution_count": 25,
      "metadata": {},
      "outputs": [],
      "source": [
        "# Reset index in case it isn't sequential\n",
        "df = df.reset_index()\n",
        "\n",
        "# Create mapping from title to index\n",
        "title_to_index = pd.Series(df.index, index=df['title'].str.lower())"
      ]
    },
    {
      "cell_type": "code",
      "execution_count": 26,
      "metadata": {},
      "outputs": [],
      "source": [
        "def get_recommendations(title, cosine_sim=cosine_sim, top_n=10):\n",
        "    title = title.lower()\n",
        "    idx = title_to_index.get(title)\n",
        "\n",
        "    if idx is None:\n",
        "        return f\"'{title}' not found in dataset.\"\n",
        "\n",
        "    # Get similarity scores\n",
        "    sim_scores = list(enumerate(cosine_sim[idx]))\n",
        "    sim_scores = sorted(sim_scores, key=lambda x: x[1], reverse=True)\n",
        "\n",
        "    # Get indices of top_n most similar (excluding itself at index 0)\n",
        "    sim_scores = sim_scores[1:top_n+1]\n",
        "    movie_indices = [i[0] for i in sim_scores]\n",
        "\n",
        "    return df['title'].iloc[movie_indices]"
      ]
    },
    {
      "cell_type": "code",
      "execution_count": 27,
      "metadata": {},
      "outputs": [
        {
          "data": {
            "text/plain": [
              "4731                      Naruto Shippuden : Blood Prison\n",
              "28                      Naruto Shippûden the Movie: Bonds\n",
              "27               Naruto Shippuden the Movie: Blood Prison\n",
              "34      Naruto the Movie: Ninja Clash in the Land of Snow\n",
              "30                            Naruto Shippuden: The Movie\n",
              "29           Naruto Shippûden the Movie: The Will of Fire\n",
              "32       Naruto the Movie 2: Legend of the Stone of Gelel\n",
              "33      Naruto the Movie 3: Guardians of the Crescent ...\n",
              "31            Naruto Shippuden: The Movie: The Lost Tower\n",
              "6206                              Marvel Anime: Wolverine\n",
              "Name: title, dtype: object"
            ]
          },
          "execution_count": 27,
          "metadata": {},
          "output_type": "execute_result"
        }
      ],
      "source": [
        "get_recommendations(\"Naruto\")"
      ]
    },
    {
      "cell_type": "code",
      "execution_count": 28,
      "metadata": {},
      "outputs": [
        {
          "data": {
            "text/plain": [
              "7538      Beyond Stranger Things\n",
              "6837               Little Things\n",
              "6708                THE STRANGER\n",
              "6416                    Stranger\n",
              "5885    Bureau of Magical Things\n",
              "4858            Perfect Stranger\n",
              "6132                  The Sinner\n",
              "6215          Tiny Pretty Things\n",
              "6448        The Umbrella Academy\n",
              "6794                 Nightflyers\n",
              "Name: title, dtype: object"
            ]
          },
          "execution_count": 28,
          "metadata": {},
          "output_type": "execute_result"
        }
      ],
      "source": [
        "get_recommendations(\"Stranger Things\")"
      ]
    }
  ],
  "metadata": {
    "colab": {
      "private_outputs": true,
      "provenance": []
    },
    "kernelspec": {
      "display_name": ".venv",
      "language": "python",
      "name": "python3"
    },
    "language_info": {
      "codemirror_mode": {
        "name": "ipython",
        "version": 3
      },
      "file_extension": ".py",
      "mimetype": "text/x-python",
      "name": "python",
      "nbconvert_exporter": "python",
      "pygments_lexer": "ipython3",
      "version": "3.12.7"
    }
  },
  "nbformat": 4,
  "nbformat_minor": 0
}
